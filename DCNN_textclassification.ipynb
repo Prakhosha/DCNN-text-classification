{
  "nbformat": 4,
  "nbformat_minor": 0,
  "metadata": {
    "colab": {
      "name": "DCNN_textclassification.ipynb",
      "provenance": [],
      "collapsed_sections": [
        "nbl_UWAS0s5y",
        "XnvsHwfD06hw"
      ],
      "machine_shape": "hm",
      "authorship_tag": "ABX9TyM7IydI6Pw9Mv/CKuN4nB10",
      "include_colab_link": true
    },
    "kernelspec": {
      "name": "python3",
      "display_name": "Python 3"
    },
    "accelerator": "GPU"
  },
  "cells": [
    {
      "cell_type": "markdown",
      "metadata": {
        "id": "view-in-github",
        "colab_type": "text"
      },
      "source": [
        "<a href=\"https://colab.research.google.com/github/Prakhosha/DCNN-text-classification/blob/master/DCNN_textclassification.ipynb\" target=\"_parent\"><img src=\"https://colab.research.google.com/assets/colab-badge.svg\" alt=\"Open In Colab\"/></a>"
      ]
    },
    {
      "cell_type": "code",
      "metadata": {
        "id": "2rJwxlvp-SRZ",
        "colab_type": "code",
        "colab": {}
      },
      "source": [
        ""
      ],
      "execution_count": null,
      "outputs": []
    },
    {
      "cell_type": "markdown",
      "metadata": {
        "id": "pmQqEdce1WMH",
        "colab_type": "text"
      },
      "source": [
        "# **Perbandingan Klasifikasi Angka dan Huruf antara Deep Convolutional Neural Network dan Shallow Network**"
      ]
    },
    {
      "cell_type": "markdown",
      "metadata": {
        "id": "HOKxGjBT1ORA",
        "colab_type": "text"
      },
      "source": [
        "Angga Bayu Prakhosha - 13316023"
      ]
    },
    {
      "cell_type": "markdown",
      "metadata": {
        "id": "cOkv2chL1Aw4",
        "colab_type": "text"
      },
      "source": [
        "## Pendahuluan"
      ]
    },
    {
      "cell_type": "markdown",
      "metadata": {
        "id": "IJu7VgU01Eyy",
        "colab_type": "text"
      },
      "source": [
        "Dalam notebook ini akan dilakukan klasifikasi angka dan huruf ke dalam 20 kelas menggunakan deep convolutional neural network (DCNN) dan shallow network. Tujuan dari projek ini adalah:\n",
        "\n",
        "1. Membandingkan kecepatan training model DCNN dengan model shallow network\n",
        "2. Membandingkan kecepatan prediksi model DCNN dengan model shallow network\n",
        "3. Membandingkan akurasi model DCNN dengan model shallow network\n",
        "4. Membandingkan ukuran model DCNN dengan model shallow network\n",
        "\n",
        "Metodologi:\n",
        "\n",
        "1. Kecepatan training dihitung dengan menggunakan library time pada python dan dimulai sebelum training dan berakhir setelah training selesai\n",
        "\n",
        "2. Kecepatan prediksi dihitung dengan menggunakan library time pada python dan dimulai sebelum prediksi dan berakhir setelah prediksi selesai\n",
        "\n",
        "3. Akurasi model dihitung dengan membandingkan akurasi pada data validasi\n",
        "\n",
        "4. Ukuran model dihitung dari jumlah parameter yang digunakan model\n",
        "\n",
        "Spesifikasi model:\n",
        "\n",
        "1. Model DCNN yang digunakan terdiri dari 7 layer dengan 3 layer konvolusi\n",
        "2. Model shallow network yang digunakan terdiri dari 1 layer dengan jumlah perceptron 1024\n",
        "\n",
        "Data:\n",
        "Data diambil dengan menggabungkan dataset angka dan 10 huruf pertama huruf EMINST  \n",
        "link: https://www.nist.gov/itl/products-and-services/emnist-dataset"
      ]
    },
    {
      "cell_type": "markdown",
      "metadata": {
        "id": "nbl_UWAS0s5y",
        "colab_type": "text"
      },
      "source": [
        "## Pembuatan Model"
      ]
    },
    {
      "cell_type": "code",
      "metadata": {
        "id": "FpLodGJ8-WrN",
        "colab_type": "code",
        "colab": {
          "base_uri": "https://localhost:8080/",
          "height": 122
        },
        "outputId": "d8c9851f-44ec-4707-e654-9cc1c6ec3738"
      },
      "source": [
        "from google.colab import drive\n",
        "drive.mount('/content/gdrive')"
      ],
      "execution_count": null,
      "outputs": [
        {
          "output_type": "stream",
          "text": [
            "Go to this URL in a browser: https://accounts.google.com/o/oauth2/auth?client_id=947318989803-6bn6qk8qdgf4n4g3pfee6491hc0brc4i.apps.googleusercontent.com&redirect_uri=urn%3aietf%3awg%3aoauth%3a2.0%3aoob&response_type=code&scope=email%20https%3a%2f%2fwww.googleapis.com%2fauth%2fdocs.test%20https%3a%2f%2fwww.googleapis.com%2fauth%2fdrive%20https%3a%2f%2fwww.googleapis.com%2fauth%2fdrive.photos.readonly%20https%3a%2f%2fwww.googleapis.com%2fauth%2fpeopleapi.readonly\n",
            "\n",
            "Enter your authorization code:\n",
            "··········\n",
            "Mounted at /content/gdrive\n"
          ],
          "name": "stdout"
        }
      ]
    },
    {
      "cell_type": "code",
      "metadata": {
        "id": "L6RE3m7G-Zw3",
        "colab_type": "code",
        "colab": {
          "base_uri": "https://localhost:8080/",
          "height": 34
        },
        "outputId": "bda4654d-60f7-4f3c-e7d0-15a629bb5aef"
      },
      "source": [
        "cd gdrive/"
      ],
      "execution_count": null,
      "outputs": [
        {
          "output_type": "stream",
          "text": [
            "/content/gdrive\n"
          ],
          "name": "stdout"
        }
      ]
    },
    {
      "cell_type": "code",
      "metadata": {
        "id": "hk9Ll_Vm-ueF",
        "colab_type": "code",
        "colab": {
          "base_uri": "https://localhost:8080/",
          "height": 34
        },
        "outputId": "6e442e83-7270-4c6f-9b5e-dd87afb6e3ee"
      },
      "source": [
        "cd My\\ Drive"
      ],
      "execution_count": null,
      "outputs": [
        {
          "output_type": "stream",
          "text": [
            "/content/gdrive/My Drive\n"
          ],
          "name": "stdout"
        }
      ]
    },
    {
      "cell_type": "code",
      "metadata": {
        "id": "_uGxH8iy-wBK",
        "colab_type": "code",
        "colab": {
          "base_uri": "https://localhost:8080/",
          "height": 204
        },
        "outputId": "2c357c10-6931-4b37-d12d-2ec8333dd1ce"
      },
      "source": [
        "import numpy as np\n",
        "import matplotlib.pyplot as plt\n",
        "import tensorflow as tf\n",
        "from tensorflow import keras\n",
        "import datetime\n",
        "import time\n",
        "!pip install emnist"
      ],
      "execution_count": null,
      "outputs": [
        {
          "output_type": "stream",
          "text": [
            "Collecting emnist\n",
            "  Downloading https://files.pythonhosted.org/packages/d1/f4/78b24acbef9e8fe976dda700f16a3606f3b8363b015bc555f8050fbbd8ac/emnist-0.0-py3-none-any.whl\n",
            "Requirement already satisfied: numpy in /usr/local/lib/python3.6/dist-packages (from emnist) (1.18.3)\n",
            "Requirement already satisfied: tqdm in /usr/local/lib/python3.6/dist-packages (from emnist) (4.38.0)\n",
            "Requirement already satisfied: requests in /usr/local/lib/python3.6/dist-packages (from emnist) (2.21.0)\n",
            "Requirement already satisfied: chardet<3.1.0,>=3.0.2 in /usr/local/lib/python3.6/dist-packages (from requests->emnist) (3.0.4)\n",
            "Requirement already satisfied: idna<2.9,>=2.5 in /usr/local/lib/python3.6/dist-packages (from requests->emnist) (2.8)\n",
            "Requirement already satisfied: certifi>=2017.4.17 in /usr/local/lib/python3.6/dist-packages (from requests->emnist) (2020.4.5.1)\n",
            "Requirement already satisfied: urllib3<1.25,>=1.21.1 in /usr/local/lib/python3.6/dist-packages (from requests->emnist) (1.24.3)\n",
            "Installing collected packages: emnist\n",
            "Successfully installed emnist-0.0\n"
          ],
          "name": "stdout"
        }
      ]
    },
    {
      "cell_type": "code",
      "metadata": {
        "id": "kT_TnT8K_New",
        "colab_type": "code",
        "colab": {
          "base_uri": "https://localhost:8080/",
          "height": 51
        },
        "outputId": "919cc021-b44b-4afc-90f3-0d49bdd3a554"
      },
      "source": [
        "from emnist import list_datasets\n",
        "from emnist import extract_training_samples\n",
        "list_datasets()"
      ],
      "execution_count": null,
      "outputs": [
        {
          "output_type": "stream",
          "text": [
            "Downloading emnist.zip: 536MB [00:10, 54.3MB/s]\n"
          ],
          "name": "stderr"
        },
        {
          "output_type": "execute_result",
          "data": {
            "text/plain": [
              "['balanced', 'byclass', 'bymerge', 'digits', 'letters', 'mnist']"
            ]
          },
          "metadata": {
            "tags": []
          },
          "execution_count": 5
        }
      ]
    },
    {
      "cell_type": "code",
      "metadata": {
        "id": "C1BP1pmW_QF6",
        "colab_type": "code",
        "colab": {}
      },
      "source": [
        "from emnist import extract_training_samples\n",
        "from emnist import extract_test_samples\n",
        "\n",
        "numbers, numbers_label = extract_training_samples('digits')\n",
        "letters, letters_label = extract_training_samples('letters')\n",
        "\n",
        "letters = np.array(letters[np.argwhere(letters_label <= 10),:,:])\n",
        "letters = np.squeeze(letters, axis=1)\n",
        "\n",
        "letters_label = letters_label[np.argwhere(letters_label <= 10)]\n",
        "letters_label = np.squeeze(letters_label, axis=1)\n",
        "letters_label = letters_label+9\n",
        "\n",
        "val_numbers, val_numbers_label = extract_test_samples('digits')\n",
        "val_letters, val_letters_label = extract_test_samples('letters')\n",
        "\n",
        "val_letters = np.array(val_letters[np.argwhere(val_letters_label <= 10),:,:])\n",
        "val_letters = np.squeeze(val_letters, axis=1)\n",
        "\n",
        "\n",
        "val_letters_label = val_letters_label[np.argwhere(val_letters_label <= 10)]\n",
        "val_letters_label = np.squeeze(val_letters_label, axis=1)\n",
        "val_letters_label = val_letters_label+9\n",
        "\n",
        "data_training = tf.concat([numbers, letters], axis=0)\n",
        "data_validation = tf.concat([val_numbers, val_letters], axis=0)\n",
        "\n",
        "data_training = tf.reshape(data_training, [-1, 28, 28, 1])\n",
        "data_validation = tf.reshape(data_validation, [-1, 28, 28, 1])\n",
        "\n",
        "data_training_label = tf.concat([numbers_label, letters_label], axis=0)\n",
        "data_validation_label = tf.concat([val_numbers_label, val_letters_label], axis=0)"
      ],
      "execution_count": null,
      "outputs": []
    },
    {
      "cell_type": "code",
      "metadata": {
        "id": "Aur5YNYW_Yea",
        "colab_type": "code",
        "colab": {
          "base_uri": "https://localhost:8080/",
          "height": 265
        },
        "outputId": "90a7a1d0-1c5f-42cc-8b1f-3b37a587a07e"
      },
      "source": [
        "from os import listdir\n",
        "from PIL import Image as PImage, ImageOps\n",
        "from numpy import asarray\n",
        "\n",
        "def loadImages(path):\n",
        "    # return array of images\n",
        "\n",
        "    imagesList = listdir(path)\n",
        "    loadedImages = []\n",
        "    for image in imagesList:\n",
        "        img = ImageOps.invert(PImage.open(path + \"/\" + image).convert('L'))\n",
        "        img = img.resize((28,28))\n",
        "        img = asarray(img)\n",
        "        loadedImages.append(img)\n",
        "\n",
        "    return loadedImages\n",
        "\n",
        "path = \"Gambar\"\n",
        "imgs = loadImages(path)\n",
        "# your images in an array\n",
        "\n",
        "gambar= []\n",
        "\n",
        "for img in imgs:\n",
        "    # you can show every image\n",
        "    plt.imshow(img, cmap='gray')\n",
        "    #print(np.shape(img))\n",
        "    gambar.append(img[:,:])\n",
        "\n",
        "gambar = np.array(gambar)\n",
        "gambar = gambar.reshape(-1, 28, 28, 1)"
      ],
      "execution_count": null,
      "outputs": [
        {
          "output_type": "display_data",
          "data": {
            "image/png": "[encoded data removed]",
            "text/plain": [
              "<Figure size 432x288 with 1 Axes>"
            ]
          },
          "metadata": {
            "tags": [],
            "needs_background": "light"
          }
        }
      ]
    },
    {
      "cell_type": "code",
      "metadata": {
        "id": "cW2TULk0_aX1",
        "colab_type": "code",
        "colab": {}
      },
      "source": [
        "IMG_HEIGHT = 28\n",
        "IMG_WIDTH = 28\n",
        "\n",
        "model1 = keras.Sequential([\n",
        "    keras.layers.Conv2D(8, (3,3), activation='relu', input_shape=(IMG_HEIGHT, IMG_WIDTH, 1)),\n",
        "    keras.layers.MaxPooling2D((2,2)),\n",
        "    keras.layers.Conv2D(16, (3,3), activation='relu'),\n",
        "    keras.layers.MaxPooling2D((2,2)),\n",
        "    keras.layers.Conv2D(32, (3,3), activation='relu'),\n",
        "    keras.layers.Flatten(),\n",
        "    keras.layers.Dense(64, activation='relu'),\n",
        "    keras.layers.Dense(20)\n",
        "])\n",
        "\n",
        "model2 = keras.Sequential([\n",
        "    keras.layers.Flatten(input_shape=(IMG_HEIGHT, IMG_WIDTH, 1)),\n",
        "    keras.layers.Dense(1024, activation='relu'),\n",
        "    keras.layers.Dense(20)\n",
        "])"
      ],
      "execution_count": null,
      "outputs": []
    },
    {
      "cell_type": "code",
      "metadata": {
        "id": "2zIlkd93CaCl",
        "colab_type": "code",
        "colab": {
          "base_uri": "https://localhost:8080/",
          "height": 425
        },
        "outputId": "f9e898ee-45bb-458d-f2c6-72f8b3d0ce14"
      },
      "source": [
        "model1.summary()"
      ],
      "execution_count": null,
      "outputs": [
        {
          "output_type": "stream",
          "text": [
            "Model: \"sequential\"\n",
            "_________________________________________________________________\n",
            "Layer (type)                 Output Shape              Param #   \n",
            "=================================================================\n",
            "conv2d (Conv2D)              (None, 26, 26, 8)         80        \n",
            "_________________________________________________________________\n",
            "max_pooling2d (MaxPooling2D) (None, 13, 13, 8)         0         \n",
            "_________________________________________________________________\n",
            "conv2d_1 (Conv2D)            (None, 11, 11, 16)        1168      \n",
            "_________________________________________________________________\n",
            "max_pooling2d_1 (MaxPooling2 (None, 5, 5, 16)          0         \n",
            "_________________________________________________________________\n",
            "conv2d_2 (Conv2D)            (None, 3, 3, 32)          4640      \n",
            "_________________________________________________________________\n",
            "flatten (Flatten)            (None, 288)               0         \n",
            "_________________________________________________________________\n",
            "dense (Dense)                (None, 64)                18496     \n",
            "_________________________________________________________________\n",
            "dense_1 (Dense)              (None, 20)                1300      \n",
            "=================================================================\n",
            "Total params: 25,684\n",
            "Trainable params: 25,684\n",
            "Non-trainable params: 0\n",
            "_________________________________________________________________\n"
          ],
          "name": "stdout"
        }
      ]
    },
    {
      "cell_type": "code",
      "metadata": {
        "id": "Zg3_vo9dCwX_",
        "colab_type": "code",
        "colab": {
          "base_uri": "https://localhost:8080/",
          "height": 255
        },
        "outputId": "d7b73106-b8b3-4979-8ba6-48a9053cfcaa"
      },
      "source": [
        "model2.summary()"
      ],
      "execution_count": null,
      "outputs": [
        {
          "output_type": "stream",
          "text": [
            "Model: \"sequential_3\"\n",
            "_________________________________________________________________\n",
            "Layer (type)                 Output Shape              Param #   \n",
            "=================================================================\n",
            "flatten_3 (Flatten)          (None, 784)               0         \n",
            "_________________________________________________________________\n",
            "dense_8 (Dense)              (None, 1024)              803840    \n",
            "_________________________________________________________________\n",
            "dense_9 (Dense)              (None, 20)                20500     \n",
            "=================================================================\n",
            "Total params: 824,340\n",
            "Trainable params: 824,340\n",
            "Non-trainable params: 0\n",
            "_________________________________________________________________\n"
          ],
          "name": "stdout"
        }
      ]
    },
    {
      "cell_type": "code",
      "metadata": {
        "id": "ox6iXu8VG_Xv",
        "colab_type": "code",
        "colab": {}
      },
      "source": [
        ""
      ],
      "execution_count": null,
      "outputs": []
    },
    {
      "cell_type": "code",
      "metadata": {
        "id": "3Mf6XCqaC5nd",
        "colab_type": "code",
        "colab": {}
      },
      "source": [
        "model1.compile(optimizer='Adam',\n",
        "              loss=tf.keras.losses.SparseCategoricalCrossentropy(from_logits=True),\n",
        "              metrics=['accuracy'])\n",
        "\n",
        "model2.compile(optimizer='Adam',\n",
        "              loss=tf.keras.losses.SparseCategoricalCrossentropy(from_logits=True),\n",
        "              metrics=['accuracy'])\n",
        "\n",
        "early_stopping = tf.keras.callbacks.EarlyStopping(monitor='val_loss', min_delta=0, patience=10, verbose=1, mode='auto') \n",
        "best_model_filename='Siscer\\bobot_tugas_4shallow.{epoch:02d}-{val_loss:.2f}.h5'   \n",
        "best_model = tf.keras.callbacks.ModelCheckpoint(best_model_filename, monitor='val_accuracy', verbose=1, save_best_only=True)"
      ],
      "execution_count": null,
      "outputs": []
    },
    {
      "cell_type": "code",
      "metadata": {
        "id": "UujImP4DDO5q",
        "colab_type": "code",
        "colab": {}
      },
      "source": [
        "batch_size=64\n",
        "epochs=20\n",
        "total_train = np.size(data_training, 0)\n",
        "total_val = np.size(data_validation, 0)"
      ],
      "execution_count": null,
      "outputs": []
    },
    {
      "cell_type": "code",
      "metadata": {
        "id": "1i1Pr0KKDQor",
        "colab_type": "code",
        "colab": {
          "base_uri": "https://localhost:8080/",
          "height": 1000
        },
        "outputId": "7f87df2f-28e2-490e-bc87-7c38ad5d7e41"
      },
      "source": [
        "start = time.time()\n",
        "\n",
        "history1 = model1.fit(\n",
        "    x = data_training,\n",
        "    y = data_training_label,\n",
        "    steps_per_epoch= total_train // batch_size,\n",
        "    verbose = 1,\n",
        "    epochs=epochs,\n",
        "    validation_data=(data_validation, data_validation_label),\n",
        "    validation_steps=total_val // batch_size,\n",
        "    callbacks=[best_model, early_stopping]\n",
        ")\n",
        "\n",
        "end = time.time()\n",
        "\n",
        "waktu1 = end-start"
      ],
      "execution_count": null,
      "outputs": [
        {
          "output_type": "stream",
          "text": [
            "Epoch 1/20\n",
            "4490/4500 [============================>.] - ETA: 0s - loss: 0.3941 - accuracy: 0.8994\n",
            "Epoch 00001: val_accuracy improved from -inf to 0.94125, saving model to Siscer\bobot_tugas_4.01-0.19.h5\n",
            "4500/4500 [==============================] - 20s 4ms/step - loss: 0.3936 - accuracy: 0.8995 - val_loss: 0.1912 - val_accuracy: 0.9413\n",
            "Epoch 2/20\n",
            "4499/4500 [============================>.] - ETA: 0s - loss: 0.1629 - accuracy: 0.9493\n",
            "Epoch 00002: val_accuracy improved from 0.94125 to 0.95219, saving model to Siscer\bobot_tugas_4.02-0.16.h5\n",
            "4500/4500 [==============================] - 21s 5ms/step - loss: 0.1629 - accuracy: 0.9493 - val_loss: 0.1558 - val_accuracy: 0.9522\n",
            "Epoch 3/20\n",
            "4488/4500 [============================>.] - ETA: 0s - loss: 0.1393 - accuracy: 0.9562\n",
            "Epoch 00003: val_accuracy improved from 0.95219 to 0.95617, saving model to Siscer\bobot_tugas_4.03-0.14.h5\n",
            "4500/4500 [==============================] - 20s 4ms/step - loss: 0.1393 - accuracy: 0.9562 - val_loss: 0.1437 - val_accuracy: 0.9562\n",
            "Epoch 4/20\n",
            "4489/4500 [============================>.] - ETA: 0s - loss: 0.1285 - accuracy: 0.9593\n",
            "Epoch 00004: val_accuracy improved from 0.95617 to 0.95890, saving model to Siscer\bobot_tugas_4.04-0.13.h5\n",
            "4500/4500 [==============================] - 20s 4ms/step - loss: 0.1285 - accuracy: 0.9593 - val_loss: 0.1342 - val_accuracy: 0.9589\n",
            "Epoch 5/20\n",
            "4496/4500 [============================>.] - ETA: 0s - loss: 0.1210 - accuracy: 0.9616\n",
            "Epoch 00005: val_accuracy improved from 0.95890 to 0.96229, saving model to Siscer\bobot_tugas_4.05-0.12.h5\n",
            "4500/4500 [==============================] - 19s 4ms/step - loss: 0.1211 - accuracy: 0.9616 - val_loss: 0.1247 - val_accuracy: 0.9623\n",
            "Epoch 6/20\n",
            "4500/4500 [==============================] - ETA: 0s - loss: 0.1154 - accuracy: 0.9633\n",
            "Epoch 00006: val_accuracy improved from 0.96229 to 0.96233, saving model to Siscer\bobot_tugas_4.06-0.13.h5\n",
            "4500/4500 [==============================] - 20s 4ms/step - loss: 0.1154 - accuracy: 0.9633 - val_loss: 0.1273 - val_accuracy: 0.9623\n",
            "Epoch 7/20\n",
            "4495/4500 [============================>.] - ETA: 0s - loss: 0.1126 - accuracy: 0.9642\n",
            "Epoch 00007: val_accuracy did not improve from 0.96233\n",
            "4500/4500 [==============================] - 20s 4ms/step - loss: 0.1126 - accuracy: 0.9642 - val_loss: 0.1271 - val_accuracy: 0.9612\n",
            "Epoch 8/20\n",
            "4495/4500 [============================>.] - ETA: 0s - loss: 0.1096 - accuracy: 0.9647\n",
            "Epoch 00008: val_accuracy did not improve from 0.96233\n",
            "4500/4500 [==============================] - 20s 4ms/step - loss: 0.1096 - accuracy: 0.9647 - val_loss: 0.1299 - val_accuracy: 0.9607\n",
            "Epoch 9/20\n",
            "4496/4500 [============================>.] - ETA: 0s - loss: 0.1075 - accuracy: 0.9652\n",
            "Epoch 00009: val_accuracy did not improve from 0.96233\n",
            "4500/4500 [==============================] - 20s 4ms/step - loss: 0.1075 - accuracy: 0.9652 - val_loss: 0.1343 - val_accuracy: 0.9593\n",
            "Epoch 10/20\n",
            "4491/4500 [============================>.] - ETA: 0s - loss: 0.1053 - accuracy: 0.9664\n",
            "Epoch 00010: val_accuracy improved from 0.96233 to 0.96235, saving model to Siscer\bobot_tugas_4.10-0.13.h5\n",
            "4500/4500 [==============================] - 20s 4ms/step - loss: 0.1053 - accuracy: 0.9664 - val_loss: 0.1269 - val_accuracy: 0.9624\n",
            "Epoch 11/20\n",
            "4490/4500 [============================>.] - ETA: 0s - loss: 0.1031 - accuracy: 0.9666\n",
            "Epoch 00011: val_accuracy did not improve from 0.96235\n",
            "4500/4500 [==============================] - 20s 4ms/step - loss: 0.1031 - accuracy: 0.9666 - val_loss: 0.1269 - val_accuracy: 0.9617\n",
            "Epoch 12/20\n",
            "4500/4500 [==============================] - ETA: 0s - loss: 0.1020 - accuracy: 0.9669\n",
            "Epoch 00012: val_accuracy did not improve from 0.96235\n",
            "4500/4500 [==============================] - 20s 4ms/step - loss: 0.1020 - accuracy: 0.9669 - val_loss: 0.1280 - val_accuracy: 0.9615\n",
            "Epoch 13/20\n",
            "4488/4500 [============================>.] - ETA: 0s - loss: 0.1015 - accuracy: 0.9671\n",
            "Epoch 00013: val_accuracy did not improve from 0.96235\n",
            "4500/4500 [==============================] - 19s 4ms/step - loss: 0.1015 - accuracy: 0.9671 - val_loss: 0.1344 - val_accuracy: 0.9610\n",
            "Epoch 14/20\n",
            "4499/4500 [============================>.] - ETA: 0s - loss: 0.1005 - accuracy: 0.9674\n",
            "Epoch 00014: val_accuracy did not improve from 0.96235\n",
            "4500/4500 [==============================] - 19s 4ms/step - loss: 0.1006 - accuracy: 0.9674 - val_loss: 0.1367 - val_accuracy: 0.9617\n",
            "Epoch 15/20\n",
            "4498/4500 [============================>.] - ETA: 0s - loss: 0.0990 - accuracy: 0.9679\n",
            "Epoch 00015: val_accuracy did not improve from 0.96235\n",
            "4500/4500 [==============================] - 19s 4ms/step - loss: 0.0990 - accuracy: 0.9679 - val_loss: 0.1331 - val_accuracy: 0.9615\n",
            "Epoch 00015: early stopping\n"
          ],
          "name": "stdout"
        }
      ]
    },
    {
      "cell_type": "code",
      "metadata": {
        "id": "AFVR1V3CFr-b",
        "colab_type": "code",
        "colab": {
          "base_uri": "https://localhost:8080/",
          "height": 850
        },
        "outputId": "d1596e91-f5e8-418c-a4f0-b92d9cbb2199"
      },
      "source": [
        "start = time.time()\n",
        "\n",
        "history2 = model2.fit(\n",
        "    x = data_training,\n",
        "    y = data_training_label,\n",
        "    steps_per_epoch= total_train // batch_size,\n",
        "    verbose = 1,\n",
        "    epochs=epochs,\n",
        "    validation_data=(data_validation, data_validation_label),\n",
        "    validation_steps=total_val // batch_size,\n",
        "    callbacks=[best_model, early_stopping]\n",
        ")\n",
        "\n",
        "end = time.time()\n",
        "\n",
        "waktu2 = end-start"
      ],
      "execution_count": null,
      "outputs": [
        {
          "output_type": "stream",
          "text": [
            "Epoch 1/20\n",
            "4490/4500 [============================>.] - ETA: 0s - loss: 0.5466 - accuracy: 0.8699\n",
            "Epoch 00001: val_accuracy improved from -inf to 0.88213, saving model to Siscer\bobot_tugas_4shallow.01-0.47.h5\n",
            "4500/4500 [==============================] - 14s 3ms/step - loss: 0.5462 - accuracy: 0.8700 - val_loss: 0.4720 - val_accuracy: 0.8821\n",
            "Epoch 2/20\n",
            "4482/4500 [============================>.] - ETA: 0s - loss: 0.4740 - accuracy: 0.8831\n",
            "Epoch 00002: val_accuracy improved from 0.88213 to 0.88779, saving model to Siscer\bobot_tugas_4shallow.02-0.47.h5\n",
            "4500/4500 [==============================] - 14s 3ms/step - loss: 0.4744 - accuracy: 0.8831 - val_loss: 0.4676 - val_accuracy: 0.8878\n",
            "Epoch 3/20\n",
            "4493/4500 [============================>.] - ETA: 0s - loss: 0.4591 - accuracy: 0.8875\n",
            "Epoch 00003: val_accuracy did not improve from 0.88779\n",
            "4500/4500 [==============================] - 14s 3ms/step - loss: 0.4590 - accuracy: 0.8874 - val_loss: 0.4865 - val_accuracy: 0.8837\n",
            "Epoch 4/20\n",
            "4498/4500 [============================>.] - ETA: 0s - loss: 0.4580 - accuracy: 0.8880\n",
            "Epoch 00004: val_accuracy did not improve from 0.88779\n",
            "4500/4500 [==============================] - 14s 3ms/step - loss: 0.4579 - accuracy: 0.8881 - val_loss: 0.4851 - val_accuracy: 0.8785\n",
            "Epoch 5/20\n",
            "4487/4500 [============================>.] - ETA: 0s - loss: 0.4476 - accuracy: 0.8907\n",
            "Epoch 00005: val_accuracy did not improve from 0.88779\n",
            "4500/4500 [==============================] - 14s 3ms/step - loss: 0.4477 - accuracy: 0.8907 - val_loss: 0.4898 - val_accuracy: 0.8862\n",
            "Epoch 6/20\n",
            "4485/4500 [============================>.] - ETA: 0s - loss: 0.4459 - accuracy: 0.8913\n",
            "Epoch 00006: val_accuracy did not improve from 0.88779\n",
            "4500/4500 [==============================] - 14s 3ms/step - loss: 0.4459 - accuracy: 0.8913 - val_loss: 0.5007 - val_accuracy: 0.8808\n",
            "Epoch 7/20\n",
            "4494/4500 [============================>.] - ETA: 0s - loss: 0.4506 - accuracy: 0.8907\n",
            "Epoch 00007: val_accuracy improved from 0.88779 to 0.88987, saving model to Siscer\bobot_tugas_4shallow.07-0.50.h5\n",
            "4500/4500 [==============================] - 14s 3ms/step - loss: 0.4504 - accuracy: 0.8907 - val_loss: 0.5016 - val_accuracy: 0.8899\n",
            "Epoch 8/20\n",
            "4483/4500 [============================>.] - ETA: 0s - loss: 0.4427 - accuracy: 0.8916\n",
            "Epoch 00008: val_accuracy did not improve from 0.88987\n",
            "4500/4500 [==============================] - 14s 3ms/step - loss: 0.4429 - accuracy: 0.8916 - val_loss: 0.4875 - val_accuracy: 0.8816\n",
            "Epoch 9/20\n",
            "4489/4500 [============================>.] - ETA: 0s - loss: 0.4449 - accuracy: 0.8915\n",
            "Epoch 00009: val_accuracy did not improve from 0.88987\n",
            "4500/4500 [==============================] - 14s 3ms/step - loss: 0.4448 - accuracy: 0.8915 - val_loss: 0.5089 - val_accuracy: 0.8815\n",
            "Epoch 10/20\n",
            "4500/4500 [==============================] - ETA: 0s - loss: 0.4415 - accuracy: 0.8926\n",
            "Epoch 00010: val_accuracy did not improve from 0.88987\n",
            "4500/4500 [==============================] - 14s 3ms/step - loss: 0.4415 - accuracy: 0.8926 - val_loss: 0.4799 - val_accuracy: 0.8896\n",
            "Epoch 11/20\n",
            "4488/4500 [============================>.] - ETA: 0s - loss: 0.4427 - accuracy: 0.8929\n",
            "Epoch 00011: val_accuracy did not improve from 0.88987\n",
            "4500/4500 [==============================] - 14s 3ms/step - loss: 0.4427 - accuracy: 0.8928 - val_loss: 0.4768 - val_accuracy: 0.8891\n",
            "Epoch 12/20\n",
            "4483/4500 [============================>.] - ETA: 0s - loss: 0.4380 - accuracy: 0.8933\n",
            "Epoch 00012: val_accuracy improved from 0.88987 to 0.89421, saving model to Siscer\bobot_tugas_4shallow.12-0.48.h5\n",
            "4500/4500 [==============================] - 14s 3ms/step - loss: 0.4381 - accuracy: 0.8933 - val_loss: 0.4769 - val_accuracy: 0.8942\n",
            "Epoch 00012: early stopping\n"
          ],
          "name": "stdout"
        }
      ]
    },
    {
      "cell_type": "code",
      "metadata": {
        "id": "Mzri13XY05QT",
        "colab_type": "code",
        "colab": {}
      },
      "source": [
        ""
      ],
      "execution_count": null,
      "outputs": []
    },
    {
      "cell_type": "markdown",
      "metadata": {
        "id": "XnvsHwfD06hw",
        "colab_type": "text"
      },
      "source": [
        "## Hasil"
      ]
    },
    {
      "cell_type": "code",
      "metadata": {
        "id": "iIoQE5zoFvOD",
        "colab_type": "code",
        "colab": {
          "base_uri": "https://localhost:8080/",
          "height": 764
        },
        "outputId": "a7072ecc-eed9-43d1-ab6e-ba05cef5b1e0"
      },
      "source": [
        "# summarize history for accuracy\n",
        "plt.figure(figsize=(12,12))\n",
        "plt.subplot(2,2,1)\n",
        "plt.plot(history1.history['accuracy'], linestyle='--', color='g')\n",
        "plt.plot(history1.history['val_accuracy'], linestyle='-', color='b')\n",
        "plt.title('Akurasi Model CNN')\n",
        "plt.ylabel('akurasi')\n",
        "plt.xlabel('epoch')\n",
        "plt.legend(['train', 'validation'], loc='upper left')\n",
        "plt.grid()\n",
        "\n",
        "plt.subplot(2,2,2)\n",
        "plt.plot(history2.history['accuracy'], linestyle='--', color='g')\n",
        "plt.plot(history2.history['val_accuracy'], linestyle='-', color='b')\n",
        "plt.title('Akurasi Model Shallow Network')\n",
        "plt.ylabel('akurasi')\n",
        "plt.xlabel('epoch')\n",
        "plt.legend(['train', 'validation'], loc='upper left')\n",
        "plt.grid()\n",
        "\n",
        "# summarize history for loss\n",
        "plt.subplot(2,2,3)\n",
        "plt.plot(history1.history['loss'], linestyle='--', color='y')\n",
        "plt.plot(history1.history['val_loss'], linestyle='-', color='r')\n",
        "plt.title('Loss Model CNN')\n",
        "plt.ylabel('loss')\n",
        "plt.xlabel('epoch')\n",
        "plt.legend(['train', 'validation'], loc='upper left')\n",
        "plt.grid()\n",
        "\n",
        "plt.subplot(2,2,4)\n",
        "plt.plot(history2.history['loss'], linestyle='--', color='y')\n",
        "plt.plot(history2.history['val_loss'], linestyle='-', color='r')\n",
        "plt.title('Loss Model Shallow Network')\n",
        "plt.ylabel('loss')\n",
        "plt.xlabel('epoch')\n",
        "plt.legend(['train', 'validation'], loc='upper left')\n",
        "plt.grid()\n",
        "plt.show()\n",
        "\n",
        "print('Waktu yang dibutuhkan untuk training model CNN: ' + str(waktu1))\n",
        "print('Waktu yang dibutuhkan untuk training model shallow network: ' + str(waktu2))"
      ],
      "execution_count": null,
      "outputs": [
        {
          "output_type": "display_data",
          "data": {
            "image/png": "[encoded data removed]",
            "text/plain": [
              "<Figure size 864x864 with 4 Axes>"
            ]
          },
          "metadata": {
            "tags": [],
            "needs_background": "light"
          }
        },
        {
          "output_type": "stream",
          "text": [
            "Waktu yang dibutuhkan untuk training model CNN: 301.4584038257599\n",
            "Waktu yang dibutuhkan untuk training model shallow network: 166.54049682617188\n"
          ],
          "name": "stdout"
        }
      ]
    },
    {
      "cell_type": "code",
      "metadata": {
        "id": "ruNRPxKHeQU0",
        "colab_type": "code",
        "colab": {
          "base_uri": "https://localhost:8080/",
          "height": 51
        },
        "outputId": "c41cb01a-05c1-42c9-ac39-cb10d1ceb12f"
      },
      "source": [
        "start1 = time.time()\n",
        "model1.predict(gambar)\n",
        "end1 = time.time()\n",
        "\n",
        "start2 = time.time()\n",
        "model2.predict(gambar)\n",
        "end2 = time.time()\n",
        "\n",
        "waktu1 = end1-start1\n",
        "waktu2 = end2-start2\n",
        "\n",
        "print('Waktu yang dibutuhkan model CNN untuk memprediksi: ' + str(waktu1))\n",
        "print('Waktu yang dibutuhkan model shallow network untuk memprediksi: ' + str(waktu2))"
      ],
      "execution_count": null,
      "outputs": [
        {
          "output_type": "stream",
          "text": [
            "Waktu yang dibutuhkan model CNN untuk memprediksi: 0.2582845687866211\n",
            "Waktu yang dibutuhkan model shallow network untuk memprediksi: 0.05880570411682129\n"
          ],
          "name": "stdout"
        }
      ]
    },
    {
      "cell_type": "code",
      "metadata": {
        "id": "pr_Tcf27jQOV",
        "colab_type": "code",
        "colab": {
          "base_uri": "https://localhost:8080/",
          "height": 122
        },
        "outputId": "894c30c0-460e-4e79-bf20-fc005f1a2161"
      },
      "source": [
        "model1.save('model1')\n",
        "model2.save('model2')"
      ],
      "execution_count": null,
      "outputs": [
        {
          "output_type": "stream",
          "text": [
            "WARNING:tensorflow:From /usr/local/lib/python3.6/dist-packages/tensorflow/python/ops/resource_variable_ops.py:1817: calling BaseResourceVariable.__init__ (from tensorflow.python.ops.resource_variable_ops) with constraint is deprecated and will be removed in a future version.\n",
            "Instructions for updating:\n",
            "If using Keras pass *_constraint arguments to layers.\n",
            "INFO:tensorflow:Assets written to: model1/assets\n",
            "INFO:tensorflow:Assets written to: model2/assets\n"
          ],
          "name": "stdout"
        }
      ]
    },
    {
      "cell_type": "code",
      "metadata": {
        "id": "G5MI6aol0b7v",
        "colab_type": "code",
        "colab": {}
      },
      "source": [
        ""
      ],
      "execution_count": null,
      "outputs": []
    },
    {
      "cell_type": "markdown",
      "metadata": {
        "id": "tWCpBCY40kMb",
        "colab_type": "text"
      },
      "source": [
        "## Pembahasan"
      ]
    },
    {
      "cell_type": "markdown",
      "metadata": {
        "id": "E7-Hpxd30owf",
        "colab_type": "text"
      },
      "source": [
        "1. Dari keluaran training baik model DCNN maupun shallow network didapat bahwa kecepatan training model DCNN lebih cepat dibanding kecepatan training model shallow network. Kecepatan training model DCNN terhitung sebesar 301.4584038257599 sedangkan kecepatan training model shallow network sebesar 166.54049682617188. Hal ini membuktikan DCNN lebih cepat dalam hal training data dibanding shallow network.\n",
        "\n",
        "2. Dari keluaran prediksi baik model DCNN maupun shallow network didapat bahwa kecepatan prediksi model DCNN lebih cepat dibanding kecepatan prediksi model shallow network. Kecepatan prediksi model DCNN terhitung sebesar 0.2582845687866211 sedangkan kecepatan prediksi model shallow network sebesar 0.05880570411682129. Hal ini menunjukkan DCNN lebih cepat dalam memprediksi data dibanding shallow network.\n",
        "\n",
        "3. Graik plot training menunjukkan akurasi model DCNN lebih besar dibanding akurasi model shallow network. Akurasi validasi model DCNN didapat sebesar 0.9615 sedangkan akurasi model shallow network sebesar 0.8942. Hal ini menunjukkan DCNN lebih akurat dibanding shallow network.\n",
        "\n",
        "4. _*Summary()*_ kedua model menunjukkan jumlah parameter yang digunakan baik model DCNN maupun model shallow network. Didapatkan bahwa dengan jumlah layer 8 dengan 3 diantaranya merupakan layer konvolusi, DCNN menggunakan 25,684 parameter. Di sisi lain shallow network 1 layer 1024 perceptron menggunakan 824,340 parameter. Hal ini menunjukkan DCNN menggunakan parameter yang lebih sedikit dibanding shallow network. Oleh karena itu ukuran penyimpanan DCNN lebih sedikit dibanding shallow network.\n",
        "\n",
        "**Keempat hasil tersebut menunjukkan bahwa DCNN lebih baik digunakan untuk mengklasifikasi data angka dan 10 huruf pertama data EMNIST**."
      ]
    },
    {
      "cell_type": "code",
      "metadata": {
        "id": "GLjmEKGxAAm4",
        "colab_type": "code",
        "colab": {}
      },
      "source": [
        ""
      ],
      "execution_count": null,
      "outputs": []
    }
  ]
}